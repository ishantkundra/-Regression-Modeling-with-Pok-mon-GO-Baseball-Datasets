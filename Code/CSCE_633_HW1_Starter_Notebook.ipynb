{
  "nbformat": 4,
  "nbformat_minor": 0,
  "metadata": {
    "colab": {
      "provenance": []
    },
    "kernelspec": {
      "name": "python3",
      "display_name": "Python 3"
    },
    "language_info": {
      "name": "python"
    }
  },
  "cells": [
    {
      "cell_type": "markdown",
      "source": [
        "## CSCE 633\n",
        "## Homework 1: Linear models\n",
        "\n",
        "#### Due: 11:59pm on September 21, 2023"
      ],
      "metadata": {
        "id": "oz9NLZfvoPMY"
      }
    },
    {
      "cell_type": "markdown",
      "source": [
        "## Part A- Linear Regression"
      ],
      "metadata": {
        "id": "CwmZBeJ-zmzP"
      }
    },
    {
      "cell_type": "markdown",
      "source": [
        "### Reading Data"
      ],
      "metadata": {
        "id": "soJ6O3pyoUp5"
      }
    },
    {
      "cell_type": "code",
      "execution_count": null,
      "metadata": {
        "id": "XyrAXXefkvIe"
      },
      "outputs": [],
      "source": [
        "# Question A\n",
        "import pandas as pd\n",
        "\n",
        "file_path = '/path/hw1_q1_data.csv'\n",
        "\n",
        "# Read the CSV file into a pandas DataFrame\n",
        "df = pd.read_csv(file_path)"
      ]
    },
    {
      "cell_type": "code",
      "source": [
        "df.head()"
      ],
      "metadata": {
        "id": "uKQhbMkao3Jz"
      },
      "execution_count": null,
      "outputs": []
    },
    {
      "cell_type": "markdown",
      "source": [
        "### (A-i) (5 points) Data exploration:"
      ],
      "metadata": {
        "id": "wRFhd543pPnJ"
      }
    },
    {
      "cell_type": "code",
      "source": [
        "# Import required packages here"
      ],
      "metadata": {
        "id": "2rabijUBrfNO"
      },
      "execution_count": null,
      "outputs": []
    },
    {
      "cell_type": "code",
      "source": [
        "def get_pearson_coeff(feature1, feature2):\n",
        "  '''\n",
        "    given 2 feature names return the Pearson’s correlation coefficient between them\n",
        "  '''\n",
        "  ### YOUR CODE HERE\n",
        "\n",
        "  ### YOUR CODE HERE\n",
        "\n",
        "def plot_scatter(feature1, feature2):\n",
        "  '''\n",
        "    Plot a 2D Scatter Plot between the 2 features, make sure to label the plots properly\n",
        "  '''\n",
        "  ### YOUR CODE HERE\n",
        "\n",
        "  ### YOUR CODE HERE"
      ],
      "metadata": {
        "id": "51N-4nARqaNt"
      },
      "execution_count": null,
      "outputs": []
    },
    {
      "cell_type": "code",
      "source": [
        "features_list = # This list stores the features in the data\n",
        "coeff_list =  # This list stores the Pearson correlation coefficient\n",
        "\n",
        "### YOUR CODE HERE\n",
        "\n",
        "### YOUR CODE HERE\n",
        "\n",
        "data_exploration1_result = pd.DataFrame()\n",
        "data_exploration1_result['feature'] = features_list\n",
        "data_exploration1_result['corr'] = coeff_list\n",
        "data_exploration1_result"
      ],
      "metadata": {
        "id": "gCVvwFxhsMUk"
      },
      "execution_count": null,
      "outputs": []
    },
    {
      "cell_type": "markdown",
      "source": [
        "### (A-ii) (5 points) Data exploration:"
      ],
      "metadata": {
        "id": "qPcS0rgtuXn8"
      }
    },
    {
      "cell_type": "code",
      "source": [
        "n = len(features_list)\n",
        "feature1_list = []\n",
        "feature2_list = []\n",
        "coeff_list = [] # This list stores the Pearson correlation values\n",
        "\n",
        "for i in range(0,n):\n",
        "  for j in range(i+1, n):\n",
        "\n",
        "    feature1_list.append(features_list[i])\n",
        "    feature2_list.append(features_list[j])\n",
        "\n",
        "    ### YOUR CODE HERE\n",
        "    ''' populate coeff_list here '''\n",
        "    ### YOUR CODE HERE\n",
        "\n",
        "data_exploration2_result = pd.DataFrame()\n",
        "data_exploration2_result['Feature1'] = feature1_list\n",
        "data_exploration2_result['Feature2'] = feature2_list\n",
        "data_exploration2_result['corr_coeff'] = coeff_list\n",
        "data_exploration2_result"
      ],
      "metadata": {
        "id": "HFSSdiFhuiQ6"
      },
      "execution_count": null,
      "outputs": []
    },
    {
      "cell_type": "markdown",
      "source": [
        "### (A-iii) (15 points) Predicting combat points:"
      ],
      "metadata": {
        "id": "AWx1Xc6ov3eJ"
      }
    },
    {
      "cell_type": "code",
      "source": [
        "# Import required packages here"
      ],
      "metadata": {
        "id": "DO_11zH90Iy5"
      },
      "execution_count": null,
      "outputs": []
    },
    {
      "cell_type": "code",
      "source": [
        "def get_predictions(X_train, y_train, X_test):\n",
        "  '''\n",
        "    This function is called in the cell below\n",
        "    Given the train data, write code for training a linear regression model and\n",
        "    return the predictions on given test data\n",
        "  '''\n",
        "  ### YOUR CODE HERE\n",
        "\n",
        "  ### YOUR CODE HERE"
      ],
      "metadata": {
        "id": "AFwOYoXT15Cu"
      },
      "execution_count": null,
      "outputs": []
    },
    {
      "cell_type": "code",
      "source": [
        "### YOUR CODE HERE\n",
        "\n",
        "rss_scores = []  # This list stores root mean squared errors for each fold\n",
        "\n",
        "'''\n",
        "Loop through the indices split and calculate the root mean squared error\n",
        "for each fold and append it to rss_scores list\n",
        "'''\n",
        "\n",
        "### YOUR CODE HERE\n",
        "print(rss_scores)\n",
        "average_rss = # Compute the average rss\n",
        "print(average_rss)"
      ],
      "metadata": {
        "id": "BrYeCcULWhRv"
      },
      "execution_count": null,
      "outputs": []
    },
    {
      "cell_type": "markdown",
      "source": [
        "###(A-iv) (15 points)"
      ],
      "metadata": {
        "id": "SEOpdbwSYEBy"
      }
    },
    {
      "cell_type": "code",
      "source": [
        "'''\n",
        "  Experiment with different feature combinations and print the best avergae_rss\n",
        "  Please provide the rationale behind selecting or dropping some features\n",
        "'''\n",
        "\n",
        "### YOUR CODE HERE\n",
        "\n",
        "### YOUR CODE HERE"
      ],
      "metadata": {
        "id": "Fq-cfkLeYHAs"
      },
      "execution_count": null,
      "outputs": []
    },
    {
      "cell_type": "markdown",
      "source": [
        "Question: Please provide the rationale behind selecting or dropping some features\n",
        "\n",
        "Note: Limit your answer to this cell"
      ],
      "metadata": {
        "id": "qeO9dIyFKoan"
      }
    },
    {
      "cell_type": "markdown",
      "source": [
        "### (A-v) (10 points)"
      ],
      "metadata": {
        "id": "ZVniCgDqY1ny"
      }
    },
    {
      "cell_type": "markdown",
      "source": [
        "Question: Explain the mathematical derivation for training the\n",
        "linear regression model with ordinary least squares (OLS) solution.\n",
        "\n",
        "---\n",
        "\n",
        "(You should use LaTeX commands in a markdown cell to write the math)\n",
        "\n",
        "Note: Limit your answer to this cell"
      ],
      "metadata": {
        "id": "MoLx56ghY3ZE"
      }
    },
    {
      "cell_type": "markdown",
      "source": [
        "#Part B - Logistic Regression"
      ],
      "metadata": {
        "id": "wNfZH3rBZA5I"
      }
    },
    {
      "cell_type": "markdown",
      "source": [
        "## (B-i) (20 points) Data Preprocessing"
      ],
      "metadata": {
        "id": "c44A9fLfZNF2"
      }
    },
    {
      "cell_type": "markdown",
      "source": [
        "### 1. Download and read the data.\n",
        "##### For Python, you may use pandas library and use read csv function"
      ],
      "metadata": {
        "id": "uN7G2x0prkTm"
      }
    },
    {
      "cell_type": "code",
      "source": [
        "### YOUR Input HERE\n",
        "hitters_file_path = '/path/hw1_q2_data.csv'\n",
        "### YOUR Input HERE\n",
        "\n",
        "df = pd.read_csv(hitters_file_path)"
      ],
      "metadata": {
        "id": "-WiriHs8ZRDQ"
      },
      "execution_count": null,
      "outputs": []
    },
    {
      "cell_type": "markdown",
      "source": [
        "### 2. Print the data. How does the data look like? Add a short description about the data in the cell below.\n",
        "#####  (You may use head() function in pandas library)"
      ],
      "metadata": {
        "id": "uhQBZF3Lro4T"
      }
    },
    {
      "cell_type": "code",
      "source": [
        "### YOUR CODE HERE\n",
        "\n",
        "### YOUR CODE HERE"
      ],
      "metadata": {
        "id": "-ur-JT02ag4p"
      },
      "execution_count": null,
      "outputs": []
    },
    {
      "cell_type": "markdown",
      "source": [
        "Question: How does the data look like? Add a short description about the data.\n",
        "\n",
        "Note: Limit your answer to this cell"
      ],
      "metadata": {
        "id": "OIxRSfv27d7P"
      }
    },
    {
      "cell_type": "markdown",
      "source": [
        "### 3. Print the shape of the data.\n",
        "##### Shape means the dimensions of the data.\n"
      ],
      "metadata": {
        "id": "lUOWXSTjr6vB"
      }
    },
    {
      "cell_type": "code",
      "source": [
        "### YOUR CODE HERE\n",
        "\n",
        "### YOUR CODE HERE"
      ],
      "metadata": {
        "id": "B76k-5tlasXz"
      },
      "execution_count": null,
      "outputs": []
    },
    {
      "cell_type": "markdown",
      "source": [
        "### 4. Does the data have any missing values? How many are missing? Print the number of missing values.\n",
        "##### In pandas, check out isnul() and isnul().sum()\n"
      ],
      "metadata": {
        "id": "tchYuWjgr-wL"
      }
    },
    {
      "cell_type": "code",
      "source": [
        "### YOUR CODE HERE\n",
        "\n",
        "### YOUR CODE HERE"
      ],
      "metadata": {
        "id": "ymOh8d6Xay7d"
      },
      "execution_count": null,
      "outputs": []
    },
    {
      "cell_type": "markdown",
      "source": [
        "### 5. Drop all the rows with any missing data and print the shape of the data frame.\n",
        "##### In pandas, check out dropna(). dropna() accepts an argument inplace, check out what it does and when it comes in handy.\n",
        "\n"
      ],
      "metadata": {
        "id": "u_QMQPVYsGQg"
      }
    },
    {
      "cell_type": "code",
      "source": [
        "### YOUR CODE HERE\n",
        "\n",
        "### YOUR CODE HERE"
      ],
      "metadata": {
        "id": "5MJhP49hbx3-"
      },
      "execution_count": null,
      "outputs": []
    },
    {
      "cell_type": "markdown",
      "source": [
        "### 6. Extract the features and the label from the data.\n",
        "##### Our label is NewLeague and all the others are considered features.\n"
      ],
      "metadata": {
        "id": "sg7Z8Qf1sN27"
      }
    },
    {
      "cell_type": "code",
      "source": [
        "\n",
        "### YOUR CODE HERE\n",
        "features =\n",
        "labels =\n",
        "### YOUR CODE HERE"
      ],
      "metadata": {
        "id": "02cNSaT3cPkx"
      },
      "execution_count": null,
      "outputs": []
    },
    {
      "cell_type": "markdown",
      "source": [
        "### 7. Data preprocessing. We want to do one-hot encoding for categorical features.\n",
        "##### First separate numerical columns from nonnumerical columns.\n",
        "##### Afterwards, use get dummies for transforming to categorical. Then concat both parts (pd.concat()).\n"
      ],
      "metadata": {
        "id": "qQ80nTRYsUYk"
      }
    },
    {
      "cell_type": "code",
      "source": [
        "### YOUR CODE HERE\n",
        "\n",
        "### YOUR CODE HERE"
      ],
      "metadata": {
        "id": "BAqeAuWIc-hN"
      },
      "execution_count": null,
      "outputs": []
    },
    {
      "cell_type": "markdown",
      "source": [
        "### 8. Transform the output into numerical format.\n",
        "##### If you have selected the label as a pandas series, you can use .replace() function. In the label, transform ’A’ to 0 and ’N’ to 1.\n"
      ],
      "metadata": {
        "id": "1t8bZww3shfm"
      }
    },
    {
      "cell_type": "code",
      "source": [
        "### YOUR CODE HERE\n",
        "\n",
        "### YOUR CODE HERE"
      ],
      "metadata": {
        "id": "uDfD3eFwexQR"
      },
      "execution_count": null,
      "outputs": []
    },
    {
      "cell_type": "markdown",
      "source": [
        "## (B-ii) (20 points) Models for Hitters"
      ],
      "metadata": {
        "id": "hneZ4E44fOFk"
      }
    },
    {
      "cell_type": "markdown",
      "source": [
        "### 1. Prediction: Using 80% of the data as a training set and 20% as a testing set.\n",
        "#### You may use sklearn package in this question.\n"
      ],
      "metadata": {
        "id": "jtAtk1o8srvv"
      }
    },
    {
      "cell_type": "code",
      "source": [
        "# Import required packages here"
      ],
      "metadata": {
        "id": "YcVTyMRQs9Z1"
      },
      "execution_count": 2,
      "outputs": []
    },
    {
      "cell_type": "code",
      "source": [
        "### YOUR CODE HERE\n",
        "### YOUR CODE HERE"
      ],
      "metadata": {
        "id": "69CFnOCkfSDv"
      },
      "execution_count": null,
      "outputs": []
    },
    {
      "cell_type": "markdown",
      "source": [
        "### 2. Print the coefficients for each feature for both models. Are they the same? Are they different? Why? Please describe your observation in the cell below."
      ],
      "metadata": {
        "id": "ToDj1j4RtAhy"
      }
    },
    {
      "cell_type": "code",
      "source": [
        "linear_coef   = # to store the coefficients of the linear regression model\n",
        "logistic_coef = # to store the coefficients of the logistic regression model\n",
        "print(linear_coef)\n",
        "print('\\n')\n",
        "print(logistic_coef)"
      ],
      "metadata": {
        "id": "y8sJjnG7ftru"
      },
      "execution_count": null,
      "outputs": []
    },
    {
      "cell_type": "markdown",
      "source": [
        "Question:  Are the coefficients for each feature for both models the same? Are they different? Why? Please describe"
      ],
      "metadata": {
        "id": "m5cQq1ZaCrWf"
      }
    },
    {
      "cell_type": "markdown",
      "source": [
        "### 3. Plot the ROC curve for both models. Print the area under the curve measurements.\n"
      ],
      "metadata": {
        "id": "MBzBT_Vmt5C9"
      }
    },
    {
      "cell_type": "code",
      "source": [
        "### YOUR CODE HERE\n",
        "\n",
        "### YOUR CODE HERE"
      ],
      "metadata": {
        "id": "v_pN_NucuK7O"
      },
      "execution_count": null,
      "outputs": []
    },
    {
      "cell_type": "markdown",
      "source": [
        "### 4. What is the optimal decision threshold to maximize the f1 score? Print the optimal threshold.\n",
        "### How did you calculate the optimal threshold? Explain in the cell below.\n"
      ],
      "metadata": {
        "id": "7O_zbrEzufmd"
      }
    },
    {
      "cell_type": "code",
      "source": [
        "# Import required packages here\n",
        "import numpy as np\n",
        "from typing import Tuple, List\n",
        "\n",
        "def linear_pred_and_area_under_curve(linear_model, x_test: np.ndarray, y_test: np.ndarray) -> Tuple[np.array, np.array, np.array, np.array, float]:\n",
        "    '''\n",
        "        return the tuple consisting the predictions and area under the curve measurements of Linear Regression\n",
        "        Model in the following order\n",
        "        [linear_reg_pred, linear_reg_fpr, linear_reg_tpr, linear_threshold, linear_reg_area_under_curve]\n",
        "        Finally plot the ROC Curve\n",
        "    '''\n",
        "    ### YOUR CODE HERE\n",
        "\n",
        "    ### YOUR CODE HERE\n",
        "\n",
        "def logistic_pred_and_area_under_curve(logistic_model, x_test: np.ndarray, y_test: np.ndarray) -> Tuple[np.array, np.array, np.array, np.array, float]:\n",
        "    '''\n",
        "        return the tuple consisting the predictions and area under the curve measurements of\n",
        "        Logistic Regression Model in the following order\n",
        "        [log_reg_pred, log_reg_fpr, log_reg_tpr, log_threshold, log_reg_area_under_curve]\n",
        "        Finally plot the ROC Curve\n",
        "    '''\n",
        "    ### YOUR CODE HERE\n",
        "\n",
        "    ### YOUR CODE HERE\n",
        "\n",
        "linear_y_pred, linear_reg_fpr, linear_reg_tpr, linear_threshold, linear_reg_area_under_curve = linear_pred_and_area_under_curve(linear_model, X_test, y_test)\n",
        "\n",
        "log_y_pred, log_reg_fpr, log_reg_tpr, log_threshold, log_reg_area_under_curve = logistic_pred_and_area_under_curve(logistic_model, X_test, y_test)\n",
        "\n",
        "\n",
        "print('area under the curve for Linear Reg Model= ', linear_reg_area_under_curve )\n",
        "print('area under the curve for Logistic Reg Model= ', log_reg_area_under_curve )\n",
        "\n",
        "linear_optimal_threshold= -1\n",
        "log_optimal_threshold= -1\n",
        "### YOUR CODE HERE\n",
        "'''\n",
        "  Write code to determite the optimal threshold for linear and logistic regression\n",
        "  and store them in linear_optimal_threshold and log_optimal_threshold\n",
        "'''\n",
        "\n",
        "### YOUR CODE HERE\n",
        "\n",
        "print('Optimal Threshold for Linear Model= ', linear_optimal_threshold)\n",
        "print('Optimal Threshold for Logistic Model= ', log_optimal_threshold)"
      ],
      "metadata": {
        "id": "XeNM-1u6gmH_"
      },
      "execution_count": null,
      "outputs": []
    },
    {
      "cell_type": "markdown",
      "source": [
        "Question: What is the optimal decision threshold to maximize the f1 score? How did you calculate the optimal threshold?\n",
        "\n",
        "Note: Limit your answer to this cell"
      ],
      "metadata": {
        "id": "f0ekQ3bxDSwp"
      }
    },
    {
      "cell_type": "markdown",
      "source": [
        "### 5. Five-fold Cross-validation: Repeat (1) using a stratified, five-fold cross-validation.\n"
      ],
      "metadata": {
        "id": "6WjHP7aJu66B"
      }
    },
    {
      "cell_type": "code",
      "source": [
        "from sklearn.model_selection import StratifiedKFold\n",
        "\n",
        "def train_test_folds(skf, num_of_folds: int) -> Tuple[np.ndarray, np.ndarray, np.ndarray, dict]:\n",
        "    '''\n",
        "        train and test in for loop with different training and test sets obatined from skf.\n",
        "        use a PENALTY of 12 for logitic regression model for training\n",
        "        find features in each fold and store them in features_count array.\n",
        "        populate auc_log and auc_linear arrays with roc_auc_score of each set trained on logistic regression and linear regression models respectively.\n",
        "        populate f1_log and f1_linear arrays with f1_score of each set trained on logistic regression and linear regression models respectively.\n",
        "        return features_count, auc_log, auc_linear, f1_log and f1_linear\n",
        "    '''\n",
        "    num_of_folds = num_of_folds\n",
        "    max_iter = 100000008\n",
        "\n",
        "    X = features\n",
        "    y = labels\n",
        "    auc_log = []\n",
        "    auc_linear = []\n",
        "    features_count = []\n",
        "    f1_log= []\n",
        "    f1_linear= []\n",
        "\n",
        "    ### YOUR CODE HERE\n",
        "\n",
        "    ### YOUR CODE HERE\n",
        "\n",
        "\n",
        "num_folds= 5\n",
        "skf = StratifiedKFold(n_splits=num_folds, shuffle=True, random_state= 42)\n",
        "features_count, auc_log, auc_linear, f1_log, f1_linear = train_test_folds(skf, num_folds)\n",
        "print(features_count, auc_log, auc_linear, f1_log, f1_linear)"
      ],
      "metadata": {
        "id": "b1r4OxTftmPu"
      },
      "execution_count": null,
      "outputs": []
    },
    {
      "cell_type": "markdown",
      "source": [
        "### 6. Does the feature count change in each fold? Please explain in the cell below.\n"
      ],
      "metadata": {
        "id": "aOuYe5rqvCtQ"
      }
    },
    {
      "cell_type": "code",
      "source": [
        "def is_features_count_changed(features_count: np.array) -> bool:\n",
        "    '''\n",
        "       compare number of features in each fold (features_count array's each element)\n",
        "       return true if features count doesn't change in each fold. else return false\n",
        "    '''\n",
        "    ### YOUR CODE HERE\n",
        "\n",
        "    ### YOUR CODE HERE\n",
        "\n",
        "# call is_features_count_changed function and print true if features count changes in each fold. else print false\n",
        "print(is_features_count_changed(features_count))"
      ],
      "metadata": {
        "id": "vJqlU1zMx5pb"
      },
      "execution_count": null,
      "outputs": []
    },
    {
      "cell_type": "markdown",
      "source": [
        "Question: Do the features change in each fold?\n",
        "\n",
        "Note: Limit your answer to this cell"
      ],
      "metadata": {
        "id": "0mBZMiVgG8pe"
      }
    },
    {
      "cell_type": "code",
      "source": [
        "import scipy.stats\n",
        "def mean_confidence_interval(data: np.array, confidence=0.95) -> Tuple[float, float, float]:\n",
        "    '''\n",
        "        The required interval is from mean-h to mean+h\n",
        "        return the tuple consisting of mean, mean-h, mean+h\n",
        "    '''\n",
        "    ### YOUR CODE HERE\n",
        "\n",
        "    ### YOUR CODE HERE\n"
      ],
      "metadata": {
        "id": "F-_CfNYqyUvw"
      },
      "execution_count": null,
      "outputs": []
    },
    {
      "cell_type": "markdown",
      "source": [
        "### 7. Please provide a mean and 95% confidence interval for the AUROCs for each model."
      ],
      "metadata": {
        "id": "F4jeXPXXvY-6"
      }
    },
    {
      "cell_type": "code",
      "source": [
        "auc_linear_mean, auc_linear_open_interval, auc_linear_close_interval = 0, 0, 0\n",
        "auc_log_mean, auc_log_open_interval, auc_log_close_interval = 0, 0, 0\n",
        "\n",
        "print('mean and 95% confidence interval for the AUROCs for linear model= '    , mean_confidence_interval(auc_linear))\n",
        "print('mean and 95% confidence interval for the AUROCs for logistic model= '  , mean_confidence_interval(auc_log))"
      ],
      "metadata": {
        "id": "hs98luUgvf-b"
      },
      "execution_count": null,
      "outputs": []
    },
    {
      "cell_type": "markdown",
      "source": [
        "### 8. Please provide a mean and 95% confidence interval for the f1 score for each model."
      ],
      "metadata": {
        "id": "IVVfuVhhvcsB"
      }
    },
    {
      "cell_type": "code",
      "source": [
        "f1_linear_mean, f1_linear_open_interval, f1_linear_close_interval = 0, 0, 0\n",
        "f1_log_mean, f1_log_open_interval, f1_log_close_interval = 0, 0, 0\n",
        "\n",
        "print('mean and 95% confidence interval for the f1 score for linear model= '  , mean_confidence_interval(f1_linear))\n",
        "print('mean and 95% confidence interval for the f1 score for linear model= '  , mean_confidence_interval(f1_log))"
      ],
      "metadata": {
        "id": "ALICZqDovo8F"
      },
      "execution_count": null,
      "outputs": []
    },
    {
      "cell_type": "markdown",
      "source": [
        "#(B-iii) (10 points)"
      ],
      "metadata": {
        "id": "YBy8srzpj8yU"
      }
    },
    {
      "cell_type": "markdown",
      "source": [
        "### Explain the mathematical derivation you used for implementing the training of your linear and logistic regression models.\n",
        "---\n",
        "\n",
        "(You should use LaTeX commands in a markdown cell to write the math)\n",
        "\n",
        "Note: Limit your answer to this cell"
      ],
      "metadata": {
        "id": "OlCLuRSbj_VA"
      }
    }
  ]
}